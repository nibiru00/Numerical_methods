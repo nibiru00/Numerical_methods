{
 "cells": [
  {
   "cell_type": "markdown",
   "id": "db3f0b4f-6e40-4d01-a15f-123de6cf91ce",
   "metadata": {
    "jp-MarkdownHeadingCollapsed": true
   },
   "source": [
    "# Условие\n",
    "Вычислить определённый интеграл $\\int\\limits_{a}^{b} f(x)p(x) \\ dx $, где $$16. \\space f(x) = 2.7 \\cos(3.5x)\\exp(-7x/3) + 4.4\\sin(2.5x)\\exp(5x/3)+2$$\n",
    "$$p(x) = (b-x)^{-\\beta}$$\n",
    "$a = 2.8, \\space b=4.3, \\alpha = 0, \\beta = \\frac{3}{7}$ "
   ]
  },
  {
   "cell_type": "markdown",
   "id": "1e0b4ea5-a5cc-4c54-a7fc-446c9dd98246",
   "metadata": {},
   "source": [
    "Сделаем замену: $t = b - x$\n",
    "$$ \\hat{f} (t) = f(b-t) = 2.7 \\cos(3.5 \\cdot (b-t)) \\exp(-7(b-t)/3) + 4.4 \\sin (2.5 \\cdot (b-t)) \\exp(5\\cdot(b-t)/3) + 2  $$"
   ]
  },
  {
   "cell_type": "markdown",
   "id": "3c81106d-6d8e-44b1-80ab-3fe683eccb59",
   "metadata": {},
   "source": [
    "# Код"
   ]
  },
  {
   "cell_type": "code",
   "execution_count": 2,
   "id": "d15540ee-309d-4e55-879e-39cc4c8bee39",
   "metadata": {},
   "outputs": [],
   "source": [
    "import numpy as np\n",
    "import seaborn as sns\n",
    "import matplotlib.pyplot as plt\n",
    "import prettytable\n",
    "import pandas as pd\n",
    "import warnings\n",
    "from functools import lru_cache\n",
    "import math\n",
    "from tqdm import tqdm\n",
    "warnings.filterwarnings('ignore')\n",
    "from scipy.stats import linregress"
   ]
  },
  {
   "cell_type": "code",
   "execution_count": 29,
   "id": "039872a8-d674-4426-a792-ab40413f51f6",
   "metadata": {},
   "outputs": [],
   "source": [
    "true_value_integral =  -3246.875926327328894367882485073567528036\n",
    "a = 2.8\n",
    "b = 4.3\n",
    "beta = 3/7\n",
    "rtol = 10**(-10)"
   ]
  },
  {
   "cell_type": "markdown",
   "id": "b023298d-caa0-4be6-921b-d9844206785a",
   "metadata": {},
   "source": [
    "# Вариант Ньютона-Котса"
   ]
  },
  {
   "cell_type": "markdown",
   "id": "c70b6ab6-625b-4a8e-b4c3-2d497e819d1f",
   "metadata": {},
   "source": [
    "Общая формула для вычисления моментов. <br>\n",
    "$$ \\mu_s = \\int\\limits_{a}^{b}x^s p(x) dx$$\n",
    "Преобразуем для нашего случая.\n",
    "$$ \\int\\limits_{a}^{b}f(x)p(x)dx = \\int\\limits_{b-a}^{0}f(b-t)t^{-\\beta} d(b - t) = \\int\\limits_{0}^{b-a}\\hat f(t)t^{-\\beta}dt$$\n",
    "$$ \\mu_s = \\int\\limits_{0}^{b-a}\\frac{t^s}{t^\\beta}dt$$"
   ]
  },
  {
   "cell_type": "markdown",
   "id": "f75eac49-5976-4210-8b12-f8968dba90b6",
   "metadata": {},
   "source": [
    "$$\\mu_0 = (-\\beta+1)^{-1}\\cdot (t)^{-\\beta + 1}\\Bigg|_{0}^{b-a} = $$\n",
    "$$\\mu_1 = (2-\\beta)^{-1}\\cdot (t)^{2-\\beta}\\Bigg|_{0}^{b-a}$$\n",
    "$$ \\ldots$$\n",
    "$$ \\mu_5 = (6-\\beta)^{-1}\\cdot (t)^{6 - \\beta}\\Bigg|_{0}^{b-a}$$"
   ]
  },
  {
   "cell_type": "code",
   "execution_count": 8,
   "id": "06542a8b-7ca0-4133-a454-e6d92ae41176",
   "metadata": {},
   "outputs": [],
   "source": [
    "# @lru_cache\n",
    "def moment(a, b, beta): ## Замена сделана\n",
    "    result = []\n",
    "    for i in range(6):\n",
    "        temp = (1+i-beta)**(-1) * (b ** (1+i-beta) - a **(1+i-beta))\n",
    "        result.append(temp)\n",
    "    return result"
   ]
  },
  {
   "cell_type": "code",
   "execution_count": 9,
   "id": "5dc041aa-a085-40bd-8966-2c1fbfc6b7de",
   "metadata": {},
   "outputs": [],
   "source": [
    "# @lru_cache\n",
    "def coef_for_IQF_N (a, b, beta, nodes):\n",
    "    nodes = np.expand_dims(np.array(nodes), axis=0)\n",
    "    matr = np.concatenate((nodes**0, nodes**1, nodes**2))\n",
    "    mu = moment(a, b, beta)\n",
    "    result = np.linalg.solve(matr, mu[:3])\n",
    "    return result\n"
   ]
  },
  {
   "cell_type": "code",
   "execution_count": 10,
   "id": "26131300-4fd6-458d-95e9-524772111fdf",
   "metadata": {},
   "outputs": [],
   "source": [
    "# @lru_cache\n",
    "def hat_f(t):\n",
    "    x = 4.3 - t\n",
    "    y = 2.7 * np.cos(3.5*x)*np.exp(-7*x/3) + 4.4*np.sin(2.5*x)*np.exp(5*x/3)+2\n",
    "    return y"
   ]
  },
  {
   "cell_type": "markdown",
   "id": "521f5db9-5d51-4745-a420-191e1db5351d",
   "metadata": {},
   "source": [
    "## Вычисление трёхточечной ИКФ"
   ]
  },
  {
   "cell_type": "markdown",
   "id": "b099cd41-aab5-4819-bd1b-53c4e6a1a4d4",
   "metadata": {},
   "source": [
    "Вычисление моментов $\\mu_j = \\int\\limits_{a}^{b}p(x)x^j dx$"
   ]
  },
  {
   "cell_type": "code",
   "execution_count": 30,
   "id": "fe19c1ae-18a2-4e2a-9a27-aaa19cf7e557",
   "metadata": {},
   "outputs": [],
   "source": [
    "h_c = abs(b - a)\n",
    "eps = 10**(-6)\n",
    "N = 1\n",
    "R = np.inf\n",
    "S_up = np.nan\n",
    "p = np.nan\n",
    "p_up = np.nan\n",
    "p_r = np.nan\n",
    "L = 2\n",
    "m = 4\n",
    "E = np.inf\n",
    "# Rid_e = np.inf\n",
    "ans = pd.DataFrame(columns=['N','h', 'S', 'E', 'R', 'S_up', 'p', 'p_up', 'p_r', ])"
   ]
  },
  {
   "cell_type": "code",
   "execution_count": 8,
   "id": "cdb536cf-c037-4522-a7c9-307952171e8e",
   "metadata": {},
   "outputs": [
    {
     "name": "stderr",
     "output_type": "stream",
     "text": [
      "100%|███████████████████████████████████████████████████████████████████████████████████| 1/1 [00:00<00:00, 373.82it/s]\n",
      "100%|██████████████████████████████████████████████████████████████████████████████████| 2/2 [00:00<00:00, 1993.49it/s]\n",
      "100%|██████████████████████████████████████████████████████████████████████████████████| 4/4 [00:00<00:00, 4000.29it/s]\n",
      "100%|██████████████████████████████████████████████████████████████████████████████████| 8/8 [00:00<00:00, 4002.20it/s]\n",
      "100%|████████████████████████████████████████████████████████████████████████████████| 16/16 [00:00<00:00, 7994.86it/s]\n",
      "100%|████████████████████████████████████████████████████████████████████████████████| 32/32 [00:00<00:00, 8002.49it/s]\n",
      "100%|████████████████████████████████████████████████████████████████████████████████| 64/64 [00:00<00:00, 7997.48it/s]\n",
      "100%|██████████████████████████████████████████████████████████████████████████████| 128/128 [00:00<00:00, 6735.89it/s]\n",
      "100%|██████████████████████████████████████████████████████████████████████████████| 256/256 [00:00<00:00, 7589.89it/s]\n",
      "100%|██████████████████████████████████████████████████████████████████████████████| 512/512 [00:00<00:00, 8314.59it/s]\n"
     ]
    }
   ],
   "source": [
    "while (abs(R) > rtol):\n",
    "    nodes = np.linspace(0, b-a, N + 1)\n",
    "    h = h_c / N\n",
    "    S = 0\n",
    "    for i in tqdm(range(len(nodes) - 1)):\n",
    "        temp_nodes = np.linspace(nodes[i], nodes[i+1], 3)\n",
    "        coef = coef_for_IQF_N(nodes[i], nodes[i+1], beta, temp_nodes)\n",
    "        S += coef[0] * hat_f(temp_nodes[0]) + coef[1] * hat_f(temp_nodes[1]) + coef[2] * hat_f(temp_nodes[2])\n",
    "    E = abs(S - true_value_integral)/ abs(S)\n",
    "    if N >= 2:\n",
    "        R = (S - ans.iloc[-1]['S'])/(L**m - 1)\n",
    "        S_up = S + R\n",
    "        R /= abs(S)\n",
    "    if N >= 4:\n",
    "            p = -np.log(abs(S - ans.iloc[-1]['S']) / abs(ans.iloc[-1]['S'] - ans.iloc[len(ans)-2]['S'])) / np.log(L)\n",
    "            p_up = -np.log(abs(S_up - ans.iloc[-1]['S_up']) / abs(ans.iloc[-1]['S_up'] - ans.iloc[len(ans)-2]['S_up'])) / np.log(L)\n",
    "            p_r = np.log10(abs(R)) / np.log10(h)\n",
    "            \n",
    "    ans = pd.concat([ans, pd.DataFrame([[N, h, S, E, R, S_up, p, p_up, p_r]], \n",
    "                                        columns=['N', 'h', 'S', 'E', 'R', 'S_up', 'p', 'p_up', 'p_r'])],\n",
    "                     ignore_index=True)\n",
    "    N = N * 2\n",
    "    \n",
    "        "
   ]
  },
  {
   "cell_type": "code",
   "execution_count": 9,
   "id": "50bc54ba-562b-4a29-a393-78ae9a6f80e7",
   "metadata": {},
   "outputs": [
    {
     "data": {
      "text/html": [
       "<div>\n",
       "<style scoped>\n",
       "    .dataframe tbody tr th:only-of-type {\n",
       "        vertical-align: middle;\n",
       "    }\n",
       "\n",
       "    .dataframe tbody tr th {\n",
       "        vertical-align: top;\n",
       "    }\n",
       "\n",
       "    .dataframe thead th {\n",
       "        text-align: right;\n",
       "    }\n",
       "</style>\n",
       "<table border=\"1\" class=\"dataframe\">\n",
       "  <thead>\n",
       "    <tr style=\"text-align: right;\">\n",
       "      <th></th>\n",
       "      <th>N</th>\n",
       "      <th>h</th>\n",
       "      <th>S</th>\n",
       "      <th>E</th>\n",
       "      <th>R</th>\n",
       "      <th>S_up</th>\n",
       "      <th>p</th>\n",
       "      <th>p_up</th>\n",
       "      <th>p_r</th>\n",
       "    </tr>\n",
       "  </thead>\n",
       "  <tbody>\n",
       "    <tr>\n",
       "      <th>0</th>\n",
       "      <td>1</td>\n",
       "      <td>1.500000</td>\n",
       "      <td>-3188.658988</td>\n",
       "      <td>1.825750e-02</td>\n",
       "      <td>inf</td>\n",
       "      <td>NaN</td>\n",
       "      <td>NaN</td>\n",
       "      <td>NaN</td>\n",
       "      <td>NaN</td>\n",
       "    </tr>\n",
       "    <tr>\n",
       "      <th>1</th>\n",
       "      <td>2</td>\n",
       "      <td>0.750000</td>\n",
       "      <td>-3196.730945</td>\n",
       "      <td>1.568633e-02</td>\n",
       "      <td>-1.683377e-04</td>\n",
       "      <td>-3197.269076</td>\n",
       "      <td>NaN</td>\n",
       "      <td>NaN</td>\n",
       "      <td>NaN</td>\n",
       "    </tr>\n",
       "    <tr>\n",
       "      <th>2</th>\n",
       "      <td>4</td>\n",
       "      <td>0.375000</td>\n",
       "      <td>-3239.445550</td>\n",
       "      <td>2.293719e-03</td>\n",
       "      <td>-8.790518e-04</td>\n",
       "      <td>-3242.293190</td>\n",
       "      <td>-2.403739</td>\n",
       "      <td>NaN</td>\n",
       "      <td>7.174202</td>\n",
       "    </tr>\n",
       "    <tr>\n",
       "      <th>3</th>\n",
       "      <td>8</td>\n",
       "      <td>0.187500</td>\n",
       "      <td>-3246.047168</td>\n",
       "      <td>2.553132e-04</td>\n",
       "      <td>-1.355827e-04</td>\n",
       "      <td>-3246.487276</td>\n",
       "      <td>2.693838</td>\n",
       "      <td>3.424270</td>\n",
       "      <td>5.320223</td>\n",
       "    </tr>\n",
       "    <tr>\n",
       "      <th>4</th>\n",
       "      <td>16</td>\n",
       "      <td>0.093750</td>\n",
       "      <td>-3246.793901</td>\n",
       "      <td>2.526347e-05</td>\n",
       "      <td>-1.533273e-05</td>\n",
       "      <td>-3246.843683</td>\n",
       "      <td>3.144155</td>\n",
       "      <td>3.556756</td>\n",
       "      <td>4.683119</td>\n",
       "    </tr>\n",
       "    <tr>\n",
       "      <th>5</th>\n",
       "      <td>32</td>\n",
       "      <td>0.046875</td>\n",
       "      <td>-3246.868286</td>\n",
       "      <td>2.353198e-06</td>\n",
       "      <td>-1.527313e-06</td>\n",
       "      <td>-3246.873245</td>\n",
       "      <td>3.327514</td>\n",
       "      <td>3.591736</td>\n",
       "      <td>4.376084</td>\n",
       "    </tr>\n",
       "    <tr>\n",
       "      <th>6</th>\n",
       "      <td>64</td>\n",
       "      <td>0.023438</td>\n",
       "      <td>-3246.875239</td>\n",
       "      <td>2.117743e-07</td>\n",
       "      <td>-1.427613e-07</td>\n",
       "      <td>-3246.875702</td>\n",
       "      <td>3.419316</td>\n",
       "      <td>3.588477</td>\n",
       "      <td>4.199397</td>\n",
       "    </tr>\n",
       "    <tr>\n",
       "      <th>7</th>\n",
       "      <td>128</td>\n",
       "      <td>0.011719</td>\n",
       "      <td>-3246.875866</td>\n",
       "      <td>1.865928e-08</td>\n",
       "      <td>-1.287433e-08</td>\n",
       "      <td>-3246.875908</td>\n",
       "      <td>3.471035</td>\n",
       "      <td>3.581411</td>\n",
       "      <td>4.085857</td>\n",
       "    </tr>\n",
       "    <tr>\n",
       "      <th>8</th>\n",
       "      <td>256</td>\n",
       "      <td>0.005859</td>\n",
       "      <td>-3246.875921</td>\n",
       "      <td>1.621597e-09</td>\n",
       "      <td>-1.135846e-09</td>\n",
       "      <td>-3246.875925</td>\n",
       "      <td>3.502658</td>\n",
       "      <td>3.576717</td>\n",
       "      <td>4.007206</td>\n",
       "    </tr>\n",
       "    <tr>\n",
       "      <th>9</th>\n",
       "      <td>512</td>\n",
       "      <td>0.002930</td>\n",
       "      <td>-3246.875926</td>\n",
       "      <td>1.396208e-10</td>\n",
       "      <td>-9.879843e-11</td>\n",
       "      <td>-3246.875926</td>\n",
       "      <td>3.523135</td>\n",
       "      <td>3.574129</td>\n",
       "      <td>3.949682</td>\n",
       "    </tr>\n",
       "  </tbody>\n",
       "</table>\n",
       "</div>"
      ],
      "text/plain": [
       "     N         h            S             E             R         S_up  \\\n",
       "0    1  1.500000 -3188.658988  1.825750e-02           inf          NaN   \n",
       "1    2  0.750000 -3196.730945  1.568633e-02 -1.683377e-04 -3197.269076   \n",
       "2    4  0.375000 -3239.445550  2.293719e-03 -8.790518e-04 -3242.293190   \n",
       "3    8  0.187500 -3246.047168  2.553132e-04 -1.355827e-04 -3246.487276   \n",
       "4   16  0.093750 -3246.793901  2.526347e-05 -1.533273e-05 -3246.843683   \n",
       "5   32  0.046875 -3246.868286  2.353198e-06 -1.527313e-06 -3246.873245   \n",
       "6   64  0.023438 -3246.875239  2.117743e-07 -1.427613e-07 -3246.875702   \n",
       "7  128  0.011719 -3246.875866  1.865928e-08 -1.287433e-08 -3246.875908   \n",
       "8  256  0.005859 -3246.875921  1.621597e-09 -1.135846e-09 -3246.875925   \n",
       "9  512  0.002930 -3246.875926  1.396208e-10 -9.879843e-11 -3246.875926   \n",
       "\n",
       "          p      p_up       p_r  \n",
       "0       NaN       NaN       NaN  \n",
       "1       NaN       NaN       NaN  \n",
       "2 -2.403739       NaN  7.174202  \n",
       "3  2.693838  3.424270  5.320223  \n",
       "4  3.144155  3.556756  4.683119  \n",
       "5  3.327514  3.591736  4.376084  \n",
       "6  3.419316  3.588477  4.199397  \n",
       "7  3.471035  3.581411  4.085857  \n",
       "8  3.502658  3.576717  4.007206  \n",
       "9  3.523135  3.574129  3.949682  "
      ]
     },
     "execution_count": 9,
     "metadata": {},
     "output_type": "execute_result"
    }
   ],
   "source": [
    "ans"
   ]
  },
  {
   "cell_type": "markdown",
   "id": "9f8ee4fb-4408-45d0-899d-82e3daff272f",
   "metadata": {
    "jp-MarkdownHeadingCollapsed": true
   },
   "source": [
    "### Вычисление h_opt"
   ]
  },
  {
   "cell_type": "code",
   "execution_count": 10,
   "id": "73a0dfb3-f554-4f14-8f75-787abde77acd",
   "metadata": {},
   "outputs": [],
   "source": [
    "R_h = ans.R[4]\n",
    "m_opt = ans.p[4]\n",
    "h_opt = 0.95*(ans.h[4]) * (rtol/abs(R_h))**(1/m_opt)\n",
    "temp_step =(b - a)/h_opt\n",
    "N_opt = 2**(math.ceil(np.log2(temp_step)))\n",
    "N_opt, temp_step\n",
    "S_pred=0 "
   ]
  },
  {
   "cell_type": "code",
   "execution_count": 11,
   "id": "27c171d1-e355-4461-9a54-dac264ea24ec",
   "metadata": {},
   "outputs": [
    {
     "name": "stderr",
     "output_type": "stream",
     "text": [
      "100%|██████████████████████████████████████████████████████████████████████████████| 512/512 [00:00<00:00, 7998.11it/s]\n",
      "100%|████████████████████████████████████████████████████████████████████████████| 1024/1024 [00:00<00:00, 8075.33it/s]\n"
     ]
    }
   ],
   "source": [
    "for j in range(1,3):\n",
    "    nodes = np.linspace(0, b-a, int(N_opt*j/2) + 1)\n",
    "    h = h_c / N_opt\n",
    "    S = 0\n",
    "    for i in tqdm(range(len(nodes) - 1)):\n",
    "        temp_nodes = np.linspace(nodes[i], nodes[i+1], 3)\n",
    "        coef = coef_for_IQF_N(nodes[i], nodes[i+1], beta, temp_nodes)\n",
    "        S += coef[0] * hat_f(temp_nodes[0]) + coef[1] * hat_f(temp_nodes[1]) + coef[2] * hat_f(temp_nodes[2])\n",
    "    # E = abs(S - true_value_integral)/ abs(S)\n",
    "    if N_opt*j > N_opt:\n",
    "        R = (S - S_pred)/(L**m_opt - 1)\n",
    "        S_up = S + R\n",
    "        R /= abs(S)\n",
    "    else:\n",
    "        S_pred = S\n",
    "        # print(1)"
   ]
  },
  {
   "cell_type": "code",
   "execution_count": 12,
   "id": "cdb5d21c-ff64-41a0-a497-e7498151f2b6",
   "metadata": {},
   "outputs": [
    {
     "name": "stdout",
     "output_type": "stream",
     "text": [
      "-1.6284076648553953e-11\n",
      "True\n",
      "-3246.875926288552 -3246.8759258739974\n"
     ]
    }
   ],
   "source": [
    "print(R)\n",
    "print(abs(R) < rtol)\n",
    "print(S,S_pred)"
   ]
  },
  {
   "cell_type": "code",
   "execution_count": 13,
   "id": "40660aa7-268d-496f-9a8e-f5eb2995fe76",
   "metadata": {},
   "outputs": [
    {
     "data": {
      "text/plain": [
       "0.001997128067984639"
      ]
     },
     "execution_count": 13,
     "metadata": {},
     "output_type": "execute_result"
    }
   ],
   "source": [
    "h_opt"
   ]
  },
  {
   "cell_type": "code",
   "execution_count": 15,
   "id": "06b0f628-438c-4beb-b385-6251634d593c",
   "metadata": {},
   "outputs": [
    {
     "ename": "NameError",
     "evalue": "name 'temp_value_integral' is not defined",
     "output_type": "error",
     "traceback": [
      "\u001b[1;31m---------------------------------------------------------------------------\u001b[0m",
      "\u001b[1;31mNameError\u001b[0m                                 Traceback (most recent call last)",
      "Cell \u001b[1;32mIn[15], line 1\u001b[0m\n\u001b[1;32m----> 1\u001b[0m R_h \u001b[38;5;241m=\u001b[39m (\u001b[43mtemp_value_integral\u001b[49m[\u001b[38;5;241m1\u001b[39m] \u001b[38;5;241m-\u001b[39m temp_value_integral[\u001b[38;5;241m0\u001b[39m])\u001b[38;5;241m/\u001b[39m(\u001b[38;5;241m2\u001b[39m\u001b[38;5;241m*\u001b[39m\u001b[38;5;241m*\u001b[39m\u001b[38;5;241m4\u001b[39m\u001b[38;5;241m-\u001b[39m\u001b[38;5;241m1\u001b[39m)\u001b[38;5;241m/\u001b[39mS\n\u001b[0;32m      2\u001b[0m h_opt \u001b[38;5;241m=\u001b[39m \u001b[38;5;241m0.95\u001b[39m\u001b[38;5;241m*\u001b[39m(temp_nodes_2[\u001b[38;5;241m1\u001b[39m] \u001b[38;5;241m-\u001b[39m temp_nodes_2[\u001b[38;5;241m0\u001b[39m]) \u001b[38;5;241m*\u001b[39m (rtol\u001b[38;5;241m/\u001b[39m\u001b[38;5;28mabs\u001b[39m(R_h))\u001b[38;5;241m*\u001b[39m\u001b[38;5;241m*\u001b[39m\u001b[38;5;241m0.25\u001b[39m\n\u001b[0;32m      3\u001b[0m temp_step \u001b[38;5;241m=\u001b[39m(b \u001b[38;5;241m-\u001b[39m a)\u001b[38;5;241m/\u001b[39mh_opt\n",
      "\u001b[1;31mNameError\u001b[0m: name 'temp_value_integral' is not defined"
     ]
    }
   ],
   "source": [
    "R_h = (temp_value_integral[1] - temp_value_integral[0])/(2**4-1)/S\n",
    "h_opt = 0.95*(temp_nodes_2[1] - temp_nodes_2[0]) * (rtol/abs(R_h))**0.25\n",
    "temp_step =(b - a)/h_opt\n",
    "N_opt = 2**(math.ceil(np.log2(temp_step)))\n",
    "N_opt, temp_step"
   ]
  },
  {
   "cell_type": "markdown",
   "id": "8bca4d36-f146-4e9d-afbb-9bd7a8f6f706",
   "metadata": {
    "jp-MarkdownHeadingCollapsed": true
   },
   "source": [
    "### Недоделанный график"
   ]
  },
  {
   "cell_type": "code",
   "execution_count": 16,
   "id": "892517ff-60e8-4330-ad18-69d81934a6d1",
   "metadata": {},
   "outputs": [
    {
     "data": {
      "image/png": "[encoded data removed]",
      "text/plain": [
       "<Figure size 800x600 with 1 Axes>"
      ]
     },
     "metadata": {},
     "output_type": "display_data"
    }
   ],
   "source": [
    "# Пример данных (замените ans на ваш DataFrame)\n",
    "# ans = pd.DataFrame({'N': ..., 'h': ..., 'S': ..., 'E': ..., 'R': ..., 'S_up': ..., 'p': ..., 'p_up': ..., 'p_r': ...})\n",
    "\n",
    "# Фильтруем данные, чтобы убрать строки с np.inf или np.nan в столбце 'R'\n",
    "ans_filtered = ans.dropna(subset=['p_r']).loc[~ans['p_r'].isin([np.inf, -np.inf])]\n",
    "\n",
    "# Вычисляем логарифмы значений\n",
    "log_h = np.log10(ans_filtered['h'])\n",
    "log_R = np.log10(np.abs(ans_filtered['R']))\n",
    "\n",
    "# Построение графика зависимости log10(R) от log10(h)\n",
    "plt.figure(figsize=(8, 6))\n",
    "plt.plot(log_h, log_R, label='log10(R) vs log10(h)', marker='o')\n",
    "\n",
    "# Добавляем опорные прямые с углом наклона 3 и 4\n",
    "# Для этого создадим данные для прямых\n",
    "min_log_h, max_log_h = log_h.min(), log_h.max()\n",
    "log_h_line = np.linspace(min_log_h, max_log_h, 100)\n",
    "\n",
    "# Прямая с углом наклона 3\n",
    "plt.plot(log_h_line, log_h_line * 3, 'k--', label='Slope = 3')\n",
    "\n",
    "# Прямая с углом наклона 4\n",
    "plt.plot(log_h_line, log_h_line * 4 , 'k--', label='Slope = 4')\n",
    "\n",
    "# Вычисление наклона регрессии для логарифмов\n",
    "slope = log_R / log_h\n",
    "# slope, intercept, _, _, _ = linregress(log_h, log_R)\n",
    "plt.plot(log_h, slope * log_h, 'r-')\n",
    "\n",
    "# Настройки графика\n",
    "plt.xlabel('log10(h)')\n",
    "plt.ylabel('log10(R)')\n",
    "plt.title('Зависимость log10(R) от log10(h) и опорные прямые')\n",
    "plt.legend()\n",
    "plt.grid(True)\n",
    "plt.show()\n",
    "\n",
    "# Вывод наклона в таблицу\n",
    "ans_filtered['p_r'] = slope"
   ]
  },
  {
   "cell_type": "code",
   "execution_count": null,
   "id": "8687e3c7-56d5-4ec5-ab35-ed91e66f2aae",
   "metadata": {},
   "outputs": [],
   "source": [
    "q = np.array([1, 2, 3])\n",
    "qq = np.array([2, 2, 3])"
   ]
  },
  {
   "cell_type": "code",
   "execution_count": null,
   "id": "8e3dafed-a6de-48a9-9d8a-79d675f9d9c3",
   "metadata": {},
   "outputs": [],
   "source": []
  },
  {
   "cell_type": "markdown",
   "id": "753024a8-dbc7-4800-8ce5-94ca2a404e0e",
   "metadata": {},
   "source": [
    "# Вариант Гаусса"
   ]
  },
  {
   "cell_type": "code",
   "execution_count": 6,
   "id": "fa37ceb2-0e0f-4b15-b45a-21feda678693",
   "metadata": {},
   "outputs": [],
   "source": [
    "def coef_for_nodal_pol (a, b, beta):  # np.array(), shape(result) = (3, )\n",
    "    mu = moment(a, b, beta)\n",
    "    mu = np.expand_dims(np.array(mu), axis=0)\n",
    "    matr = np.concatenate((mu[:,:3], mu[:,1:4], mu[:,2:5]))\n",
    "    result = np.linalg.solve(matr, -mu[0,3:])\n",
    "    return result"
   ]
  },
  {
   "cell_type": "code",
   "execution_count": 7,
   "id": "af247650-ffdd-40e1-bd39-e51878a1dd20",
   "metadata": {},
   "outputs": [],
   "source": [
    "def coef_for_IKF_G (a, b, beta):\n",
    "    coef = coef_for_nodal_pol(a, b, beta)\n",
    "    coef = np.append(coef, 1)\n",
    "    mu = moment(a, b, beta)\n",
    "    nodes = np.roots(coef[::-1])\n",
    "    # print(nodes)\n",
    "    for i in range(len(nodes)):\n",
    "\n",
    "        if complex(nodes[i]).imag == 0:\n",
    "            if nodes[i] < a:\n",
    "                nodes[i] = a\n",
    "            if nodes[i] > b:\n",
    "                nodes[i] = b\n",
    "        else:\n",
    "             raise ValueError()\n",
    "    nodes = np.expand_dims(nodes, axis = 0)\n",
    "    matr = np.concatenate((nodes**0, nodes**1, nodes**2))\n",
    "    result = np.linalg.solve(matr, mu[:3])\n",
    "    return result, nodes\n",
    "           "
   ]
  },
  {
   "cell_type": "markdown",
   "id": "9faf35f1-a12c-49c1-ae1a-a091324f1cce",
   "metadata": {},
   "source": [
    "## Вычисление трёхточечной ИКФ "
   ]
  },
  {
   "cell_type": "code",
   "execution_count": 31,
   "id": "46a78fc3-0d67-4aa7-8d57-0b1b8414509b",
   "metadata": {},
   "outputs": [],
   "source": [
    "h_c = abs(b - a)\n",
    "eps = 10**(-6)\n",
    "N = 1\n",
    "R = np.inf\n",
    "S_up = np.nan\n",
    "p = np.nan\n",
    "p_up = np.nan\n",
    "p_r = np.nan\n",
    "L = 2\n",
    "m = 6\n",
    "E = np.inf\n",
    "p = m\n",
    "# Rid_e = np.inf\n",
    "ans_g = pd.DataFrame(columns=['N','h', 'S', 'E', 'R', 'S_up', 'p', 'p_up', 'p_r', ])"
   ]
  },
  {
   "cell_type": "code",
   "execution_count": 32,
   "id": "3e239b60-62c9-4e4b-8207-997e2ea1c2e5",
   "metadata": {},
   "outputs": [
    {
     "name": "stderr",
     "output_type": "stream",
     "text": [
      "100%|██████████████████████████████████████████████████████████████████████████████████| 1/1 [00:00<00:00, 1001.03it/s]\n",
      "100%|██████████████████████████████████████████████████████████████████████████████████| 2/2 [00:00<00:00, 2028.68it/s]\n",
      "100%|██████████████████████████████████████████████████████████████████████████████████| 4/4 [00:00<00:00, 1201.38it/s]\n",
      "100%|██████████████████████████████████████████████████████████████████████████████████| 8/8 [00:00<00:00, 1857.32it/s]\n",
      "100%|████████████████████████████████████████████████████████████████████████████████| 16/16 [00:00<00:00, 1332.69it/s]\n",
      "100%|████████████████████████████████████████████████████████████████████████████████| 32/32 [00:00<00:00, 1684.14it/s]\n"
     ]
    }
   ],
   "source": [
    "\n",
    "while (abs(R) > rtol):\n",
    "    \n",
    "    glob_interval = np.linspace(0, b-a, N + 1)\n",
    "    h = h_c / N\n",
    "    S = 0\n",
    "    for i in tqdm(range(len(glob_interval) - 1)):\n",
    "        # temp_nodes = np.linspace(glob_interval[i], glob_interval[i+1], 3)\n",
    "        coef, temp_nodes = coef_for_IKF_G(glob_interval[i], glob_interval[i+1], beta)\n",
    "        # print(coef, temp_nodes)\n",
    "        S += coef[0] * hat_f(temp_nodes[:,0]) + coef[1] * hat_f(temp_nodes[:,1]) + coef[2] * hat_f(temp_nodes[:,2])\n",
    "    E = abs(S - true_value_integral)/ abs(S)\n",
    "\n",
    "    if N >= 2:\n",
    "        R = (S - ans_g.iloc[-1]['S'])/(L**m - 1)\n",
    "        S_up = S + R\n",
    "        R /= abs(S)\n",
    "\n",
    "    if N>= 4:\n",
    "        p = -np.log(abs(S - ans_g.iloc[-1]['S']) / abs(ans_g.iloc[-1]['S'] - ans_g.iloc[-2]['S'])) / np.log(L)\n",
    "        p_up = -np.log(abs(S_up - ans_g.iloc[-1]['S_up']) / abs(ans_g.iloc[-1]['S_up'] - ans_g.iloc[-2]['S_up'])) / np.log(L)\n",
    "        p_r = np.log10(abs(R)) / np.log10(h)\n",
    "    \n",
    "    ans_g = pd.concat([ans_g, pd.DataFrame([[N, h, S, E, R, S_up, p, p_up, p_r]], \n",
    "                                        columns=['N', 'h', 'S', 'E', 'R', 'S_up', 'p', 'p_up', 'p_r'])],\n",
    "                     ignore_index=True)\n",
    "    N = N * 2\n",
    "    "
   ]
  },
  {
   "cell_type": "code",
   "execution_count": 33,
   "id": "ee32722e-676a-4642-8326-397d3da862c6",
   "metadata": {},
   "outputs": [
    {
     "data": {
      "text/html": [
       "<div>\n",
       "<style scoped>\n",
       "    .dataframe tbody tr th:only-of-type {\n",
       "        vertical-align: middle;\n",
       "    }\n",
       "\n",
       "    .dataframe tbody tr th {\n",
       "        vertical-align: top;\n",
       "    }\n",
       "\n",
       "    .dataframe thead th {\n",
       "        text-align: right;\n",
       "    }\n",
       "</style>\n",
       "<table border=\"1\" class=\"dataframe\">\n",
       "  <thead>\n",
       "    <tr style=\"text-align: right;\">\n",
       "      <th></th>\n",
       "      <th>N</th>\n",
       "      <th>h</th>\n",
       "      <th>S</th>\n",
       "      <th>E</th>\n",
       "      <th>R</th>\n",
       "      <th>S_up</th>\n",
       "      <th>p</th>\n",
       "      <th>p_up</th>\n",
       "      <th>p_r</th>\n",
       "    </tr>\n",
       "  </thead>\n",
       "  <tbody>\n",
       "    <tr>\n",
       "      <th>0</th>\n",
       "      <td>1</td>\n",
       "      <td>1.500000</td>\n",
       "      <td>[-3256.8273691498594]</td>\n",
       "      <td>[0.003055563496178902]</td>\n",
       "      <td>inf</td>\n",
       "      <td>NaN</td>\n",
       "      <td>6</td>\n",
       "      <td>NaN</td>\n",
       "      <td>NaN</td>\n",
       "    </tr>\n",
       "    <tr>\n",
       "      <th>1</th>\n",
       "      <td>2</td>\n",
       "      <td>0.750000</td>\n",
       "      <td>[-3246.8831756550785]</td>\n",
       "      <td>[2.232703598388584e-06]</td>\n",
       "      <td>[4.861411164112843e-05]</td>\n",
       "      <td>[-3246.7253313138917]</td>\n",
       "      <td>6</td>\n",
       "      <td>NaN</td>\n",
       "      <td>NaN</td>\n",
       "    </tr>\n",
       "    <tr>\n",
       "      <th>2</th>\n",
       "      <td>4</td>\n",
       "      <td>0.375000</td>\n",
       "      <td>[-3246.8748027267575]</td>\n",
       "      <td>[3.460560198524294e-07]</td>\n",
       "      <td>[4.093278374380551e-08]</td>\n",
       "      <td>[-3246.8746698231334]</td>\n",
       "      <td>[10.213906378829792]</td>\n",
       "      <td>[nan]</td>\n",
       "      <td>[17.343828688032104]</td>\n",
       "    </tr>\n",
       "    <tr>\n",
       "      <th>3</th>\n",
       "      <td>8</td>\n",
       "      <td>0.187500</td>\n",
       "      <td>[-3246.8759016335025]</td>\n",
       "      <td>[7.60541114310032e-09]</td>\n",
       "      <td>[-5.372230025182525e-09]</td>\n",
       "      <td>[-3246.8759190764667]</td>\n",
       "      <td>[2.929663312463209]</td>\n",
       "      <td>[6.901376356900099]</td>\n",
       "      <td>[11.375323067894865]</td>\n",
       "    </tr>\n",
       "    <tr>\n",
       "      <th>4</th>\n",
       "      <td>16</td>\n",
       "      <td>0.093750</td>\n",
       "      <td>[-3246.8759259075114]</td>\n",
       "      <td>[1.2929884201005707e-10]</td>\n",
       "      <td>[-1.1866844832113263e-10]</td>\n",
       "      <td>[-3246.875926292813]</td>\n",
       "      <td>[5.500512761862349]</td>\n",
       "      <td>[7.4355818098370206]</td>\n",
       "      <td>[9.655046117352637]</td>\n",
       "    </tr>\n",
       "    <tr>\n",
       "      <th>5</th>\n",
       "      <td>32</td>\n",
       "      <td>0.046875</td>\n",
       "      <td>[-3246.875926320659]</td>\n",
       "      <td>[2.0542144346765738e-12]</td>\n",
       "      <td>[-2.0197559929988556e-12]</td>\n",
       "      <td>[-3246.875926327217]</td>\n",
       "      <td>[5.87661157912219]</td>\n",
       "      <td>[7.712552160911379]</td>\n",
       "      <td>[8.799235823858178]</td>\n",
       "    </tr>\n",
       "  </tbody>\n",
       "</table>\n",
       "</div>"
      ],
      "text/plain": [
       "    N         h                      S                         E  \\\n",
       "0   1  1.500000  [-3256.8273691498594]    [0.003055563496178902]   \n",
       "1   2  0.750000  [-3246.8831756550785]   [2.232703598388584e-06]   \n",
       "2   4  0.375000  [-3246.8748027267575]   [3.460560198524294e-07]   \n",
       "3   8  0.187500  [-3246.8759016335025]    [7.60541114310032e-09]   \n",
       "4  16  0.093750  [-3246.8759259075114]  [1.2929884201005707e-10]   \n",
       "5  32  0.046875   [-3246.875926320659]  [2.0542144346765738e-12]   \n",
       "\n",
       "                           R                   S_up                     p  \\\n",
       "0                        inf                    NaN                     6   \n",
       "1    [4.861411164112843e-05]  [-3246.7253313138917]                     6   \n",
       "2    [4.093278374380551e-08]  [-3246.8746698231334]  [10.213906378829792]   \n",
       "3   [-5.372230025182525e-09]  [-3246.8759190764667]   [2.929663312463209]   \n",
       "4  [-1.1866844832113263e-10]   [-3246.875926292813]   [5.500512761862349]   \n",
       "5  [-2.0197559929988556e-12]   [-3246.875926327217]    [5.87661157912219]   \n",
       "\n",
       "                   p_up                   p_r  \n",
       "0                   NaN                   NaN  \n",
       "1                   NaN                   NaN  \n",
       "2                 [nan]  [17.343828688032104]  \n",
       "3   [6.901376356900099]  [11.375323067894865]  \n",
       "4  [7.4355818098370206]   [9.655046117352637]  \n",
       "5   [7.712552160911379]   [8.799235823858178]  "
      ]
     },
     "execution_count": 33,
     "metadata": {},
     "output_type": "execute_result"
    }
   ],
   "source": [
    "ans_g"
   ]
  },
  {
   "cell_type": "markdown",
   "id": "e01d39c8-2eae-4a74-be56-a6cfbaa420a4",
   "metadata": {},
   "source": [
    "### Вычисление $h_{opt}$"
   ]
  },
  {
   "cell_type": "code",
   "execution_count": 34,
   "id": "83f0809c-0f48-4acf-b249-b94c967435fe",
   "metadata": {},
   "outputs": [],
   "source": [
    "R_h = float(ans_g.R[4])\n",
    "m_opt = float(ans_g.p[4])\n",
    "h_opt = 0.95*(float(ans_g.h[4])) * (rtol/abs(R_h))**(1/m_opt)\n",
    "temp_step = math.ceil((b - a)/h_opt)\n",
    "# N_opt = 2**(math.ceil(np.log2(temp_step)))\n",
    "# N_opt, temp_step\n",
    "# S_pred=0 "
   ]
  },
  {
   "cell_type": "code",
   "execution_count": 35,
   "id": "257538ab-8439-43a7-9296-9eed4550799c",
   "metadata": {},
   "outputs": [
    {
     "name": "stderr",
     "output_type": "stream",
     "text": [
      "100%|████████████████████████████████████████████████████████████████████████████████| 18/18 [00:00<00:00, 1797.43it/s]\n",
      "100%|████████████████████████████████████████████████████████████████████████████████| 37/37 [00:00<00:00, 1712.11it/s]\n"
     ]
    }
   ],
   "source": [
    "for j in range(1,3):\n",
    "    glob_interval = np.linspace(0, b-a, (temp_step + 1) * j)\n",
    "    # h = h_c / N_opt\n",
    "    S = 0\n",
    "    for i in tqdm(range(len(glob_interval) - 1)):\n",
    "        # temp_nodes = np.linspace(nodes[i], nodes[i+1], 3)\n",
    "        coef, temp_nodes = coef_for_IKF_G(glob_interval[i], glob_interval[i+1], beta)\n",
    "        S += coef[0] * hat_f(temp_nodes[:,0]) + coef[1] * hat_f(temp_nodes[:,1]) + coef[2] * hat_f(temp_nodes[:,2])\n",
    "    # E = abs(S - true_value_integral)/ abs(S)\n",
    "    if j == 2:\n",
    "        R = (S - S_pred)/(1 - L**m_opt)\n",
    "        S_up = S + R\n",
    "        R /= abs(S)\n",
    "    else:\n",
    "        S_pred = S\n",
    "        # print(1)"
   ]
  },
  {
   "cell_type": "code",
   "execution_count": 36,
   "id": "eec48de7-4ac7-4914-a94f-5d6474bf3ac4",
   "metadata": {},
   "outputs": [
    {
     "data": {
      "text/plain": [
       "True"
      ]
     },
     "execution_count": 36,
     "metadata": {},
     "output_type": "execute_result"
    }
   ],
   "source": [
    "float(R) <= rtol "
   ]
  },
  {
   "cell_type": "code",
   "execution_count": null,
   "id": "32867ce7-3c4c-4f87-956e-7b70daff5ae6",
   "metadata": {},
   "outputs": [],
   "source": []
  }
 ],
 "metadata": {
  "kernelspec": {
   "display_name": "Python 3 (ipykernel)",
   "language": "python",
   "name": "python3"
  },
  "language_info": {
   "codemirror_mode": {
    "name": "ipython",
    "version": 3
   },
   "file_extension": ".py",
   "mimetype": "text/x-python",
   "name": "python",
   "nbconvert_exporter": "python",
   "pygments_lexer": "ipython3",
   "version": "3.11.3"
  }
 },
 "nbformat": 4,
 "nbformat_minor": 5
}
